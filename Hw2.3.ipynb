{
 "cells": [
  {
   "cell_type": "code",
   "execution_count": 70,
   "id": "a5be6696-59c0-4e28-93e6-17d7231aaf1f",
   "metadata": {},
   "outputs": [],
   "source": [
    "import pandas as pd\n",
    "import matplotlib.pyplot as plt\n",
    "import seaborn as sns"
   ]
  },
  {
   "cell_type": "markdown",
   "id": "daa9d62a-84d9-45a7-9f56-5c36f88c88e4",
   "metadata": {},
   "source": [
    "Прочитайте csv файл (використовуйте функцію read_csv)"
   ]
  },
  {
   "cell_type": "code",
   "execution_count": 3,
   "id": "2f36fc9b-4921-4266-88ae-65aae8bb3265",
   "metadata": {},
   "outputs": [
    {
     "data": {
      "text/html": [
       "<div>\n",
       "<style scoped>\n",
       "    .dataframe tbody tr th:only-of-type {\n",
       "        vertical-align: middle;\n",
       "    }\n",
       "\n",
       "    .dataframe tbody tr th {\n",
       "        vertical-align: top;\n",
       "    }\n",
       "\n",
       "    .dataframe thead th {\n",
       "        text-align: right;\n",
       "    }\n",
       "</style>\n",
       "<table border=\"1\" class=\"dataframe\">\n",
       "  <thead>\n",
       "    <tr style=\"text-align: right;\">\n",
       "      <th></th>\n",
       "      <th>Name</th>\n",
       "      <th>Author</th>\n",
       "      <th>User Rating</th>\n",
       "      <th>Reviews</th>\n",
       "      <th>Price</th>\n",
       "      <th>Year</th>\n",
       "      <th>Genre</th>\n",
       "    </tr>\n",
       "  </thead>\n",
       "  <tbody>\n",
       "    <tr>\n",
       "      <th>0</th>\n",
       "      <td>10-Day Green Smoothie Cleanse</td>\n",
       "      <td>JJ Smith</td>\n",
       "      <td>4.7</td>\n",
       "      <td>17350</td>\n",
       "      <td>8</td>\n",
       "      <td>2016</td>\n",
       "      <td>Non Fiction</td>\n",
       "    </tr>\n",
       "    <tr>\n",
       "      <th>1</th>\n",
       "      <td>11/22/63: A Novel</td>\n",
       "      <td>Stephen King</td>\n",
       "      <td>4.6</td>\n",
       "      <td>2052</td>\n",
       "      <td>22</td>\n",
       "      <td>2011</td>\n",
       "      <td>Fiction</td>\n",
       "    </tr>\n",
       "    <tr>\n",
       "      <th>2</th>\n",
       "      <td>12 Rules for Life: An Antidote to Chaos</td>\n",
       "      <td>Jordan B. Peterson</td>\n",
       "      <td>4.7</td>\n",
       "      <td>18979</td>\n",
       "      <td>15</td>\n",
       "      <td>2018</td>\n",
       "      <td>Non Fiction</td>\n",
       "    </tr>\n",
       "    <tr>\n",
       "      <th>3</th>\n",
       "      <td>1984 (Signet Classics)</td>\n",
       "      <td>George Orwell</td>\n",
       "      <td>4.7</td>\n",
       "      <td>21424</td>\n",
       "      <td>6</td>\n",
       "      <td>2017</td>\n",
       "      <td>Fiction</td>\n",
       "    </tr>\n",
       "    <tr>\n",
       "      <th>4</th>\n",
       "      <td>5,000 Awesome Facts (About Everything!) (Natio...</td>\n",
       "      <td>National Geographic Kids</td>\n",
       "      <td>4.8</td>\n",
       "      <td>7665</td>\n",
       "      <td>12</td>\n",
       "      <td>2019</td>\n",
       "      <td>Non Fiction</td>\n",
       "    </tr>\n",
       "    <tr>\n",
       "      <th>...</th>\n",
       "      <td>...</td>\n",
       "      <td>...</td>\n",
       "      <td>...</td>\n",
       "      <td>...</td>\n",
       "      <td>...</td>\n",
       "      <td>...</td>\n",
       "      <td>...</td>\n",
       "    </tr>\n",
       "    <tr>\n",
       "      <th>545</th>\n",
       "      <td>Wrecking Ball (Diary of a Wimpy Kid Book 14)</td>\n",
       "      <td>Jeff Kinney</td>\n",
       "      <td>4.9</td>\n",
       "      <td>9413</td>\n",
       "      <td>8</td>\n",
       "      <td>2019</td>\n",
       "      <td>Fiction</td>\n",
       "    </tr>\n",
       "    <tr>\n",
       "      <th>546</th>\n",
       "      <td>You Are a Badass: How to Stop Doubting Your Gr...</td>\n",
       "      <td>Jen Sincero</td>\n",
       "      <td>4.7</td>\n",
       "      <td>14331</td>\n",
       "      <td>8</td>\n",
       "      <td>2016</td>\n",
       "      <td>Non Fiction</td>\n",
       "    </tr>\n",
       "    <tr>\n",
       "      <th>547</th>\n",
       "      <td>You Are a Badass: How to Stop Doubting Your Gr...</td>\n",
       "      <td>Jen Sincero</td>\n",
       "      <td>4.7</td>\n",
       "      <td>14331</td>\n",
       "      <td>8</td>\n",
       "      <td>2017</td>\n",
       "      <td>Non Fiction</td>\n",
       "    </tr>\n",
       "    <tr>\n",
       "      <th>548</th>\n",
       "      <td>You Are a Badass: How to Stop Doubting Your Gr...</td>\n",
       "      <td>Jen Sincero</td>\n",
       "      <td>4.7</td>\n",
       "      <td>14331</td>\n",
       "      <td>8</td>\n",
       "      <td>2018</td>\n",
       "      <td>Non Fiction</td>\n",
       "    </tr>\n",
       "    <tr>\n",
       "      <th>549</th>\n",
       "      <td>You Are a Badass: How to Stop Doubting Your Gr...</td>\n",
       "      <td>Jen Sincero</td>\n",
       "      <td>4.7</td>\n",
       "      <td>14331</td>\n",
       "      <td>8</td>\n",
       "      <td>2019</td>\n",
       "      <td>Non Fiction</td>\n",
       "    </tr>\n",
       "  </tbody>\n",
       "</table>\n",
       "<p>550 rows × 7 columns</p>\n",
       "</div>"
      ],
      "text/plain": [
       "                                                  Name  \\\n",
       "0                        10-Day Green Smoothie Cleanse   \n",
       "1                                    11/22/63: A Novel   \n",
       "2              12 Rules for Life: An Antidote to Chaos   \n",
       "3                               1984 (Signet Classics)   \n",
       "4    5,000 Awesome Facts (About Everything!) (Natio...   \n",
       "..                                                 ...   \n",
       "545       Wrecking Ball (Diary of a Wimpy Kid Book 14)   \n",
       "546  You Are a Badass: How to Stop Doubting Your Gr...   \n",
       "547  You Are a Badass: How to Stop Doubting Your Gr...   \n",
       "548  You Are a Badass: How to Stop Doubting Your Gr...   \n",
       "549  You Are a Badass: How to Stop Doubting Your Gr...   \n",
       "\n",
       "                       Author  User Rating  Reviews  Price  Year        Genre  \n",
       "0                    JJ Smith          4.7    17350      8  2016  Non Fiction  \n",
       "1                Stephen King          4.6     2052     22  2011      Fiction  \n",
       "2          Jordan B. Peterson          4.7    18979     15  2018  Non Fiction  \n",
       "3               George Orwell          4.7    21424      6  2017      Fiction  \n",
       "4    National Geographic Kids          4.8     7665     12  2019  Non Fiction  \n",
       "..                        ...          ...      ...    ...   ...          ...  \n",
       "545               Jeff Kinney          4.9     9413      8  2019      Fiction  \n",
       "546               Jen Sincero          4.7    14331      8  2016  Non Fiction  \n",
       "547               Jen Sincero          4.7    14331      8  2017  Non Fiction  \n",
       "548               Jen Sincero          4.7    14331      8  2018  Non Fiction  \n",
       "549               Jen Sincero          4.7    14331      8  2019  Non Fiction  \n",
       "\n",
       "[550 rows x 7 columns]"
      ]
     },
     "execution_count": 3,
     "metadata": {},
     "output_type": "execute_result"
    }
   ],
   "source": [
    "df = pd.read_csv('bestsellers with categories.csv')\n",
    "df"
   ]
  },
  {
   "cell_type": "markdown",
   "id": "5f4c8d9d-3cb4-4938-861a-5c351bfeccd3",
   "metadata": {},
   "source": [
    "Виведіть перші п'ять рядків (використовується функція head)"
   ]
  },
  {
   "cell_type": "code",
   "execution_count": 4,
   "id": "06d8c65f-d2cf-4fdb-b06d-da544edf69cb",
   "metadata": {},
   "outputs": [
    {
     "data": {
      "text/html": [
       "<div>\n",
       "<style scoped>\n",
       "    .dataframe tbody tr th:only-of-type {\n",
       "        vertical-align: middle;\n",
       "    }\n",
       "\n",
       "    .dataframe tbody tr th {\n",
       "        vertical-align: top;\n",
       "    }\n",
       "\n",
       "    .dataframe thead th {\n",
       "        text-align: right;\n",
       "    }\n",
       "</style>\n",
       "<table border=\"1\" class=\"dataframe\">\n",
       "  <thead>\n",
       "    <tr style=\"text-align: right;\">\n",
       "      <th></th>\n",
       "      <th>Name</th>\n",
       "      <th>Author</th>\n",
       "      <th>User Rating</th>\n",
       "      <th>Reviews</th>\n",
       "      <th>Price</th>\n",
       "      <th>Year</th>\n",
       "      <th>Genre</th>\n",
       "    </tr>\n",
       "  </thead>\n",
       "  <tbody>\n",
       "    <tr>\n",
       "      <th>0</th>\n",
       "      <td>10-Day Green Smoothie Cleanse</td>\n",
       "      <td>JJ Smith</td>\n",
       "      <td>4.7</td>\n",
       "      <td>17350</td>\n",
       "      <td>8</td>\n",
       "      <td>2016</td>\n",
       "      <td>Non Fiction</td>\n",
       "    </tr>\n",
       "    <tr>\n",
       "      <th>1</th>\n",
       "      <td>11/22/63: A Novel</td>\n",
       "      <td>Stephen King</td>\n",
       "      <td>4.6</td>\n",
       "      <td>2052</td>\n",
       "      <td>22</td>\n",
       "      <td>2011</td>\n",
       "      <td>Fiction</td>\n",
       "    </tr>\n",
       "    <tr>\n",
       "      <th>2</th>\n",
       "      <td>12 Rules for Life: An Antidote to Chaos</td>\n",
       "      <td>Jordan B. Peterson</td>\n",
       "      <td>4.7</td>\n",
       "      <td>18979</td>\n",
       "      <td>15</td>\n",
       "      <td>2018</td>\n",
       "      <td>Non Fiction</td>\n",
       "    </tr>\n",
       "    <tr>\n",
       "      <th>3</th>\n",
       "      <td>1984 (Signet Classics)</td>\n",
       "      <td>George Orwell</td>\n",
       "      <td>4.7</td>\n",
       "      <td>21424</td>\n",
       "      <td>6</td>\n",
       "      <td>2017</td>\n",
       "      <td>Fiction</td>\n",
       "    </tr>\n",
       "    <tr>\n",
       "      <th>4</th>\n",
       "      <td>5,000 Awesome Facts (About Everything!) (Natio...</td>\n",
       "      <td>National Geographic Kids</td>\n",
       "      <td>4.8</td>\n",
       "      <td>7665</td>\n",
       "      <td>12</td>\n",
       "      <td>2019</td>\n",
       "      <td>Non Fiction</td>\n",
       "    </tr>\n",
       "  </tbody>\n",
       "</table>\n",
       "</div>"
      ],
      "text/plain": [
       "                                                Name  \\\n",
       "0                      10-Day Green Smoothie Cleanse   \n",
       "1                                  11/22/63: A Novel   \n",
       "2            12 Rules for Life: An Antidote to Chaos   \n",
       "3                             1984 (Signet Classics)   \n",
       "4  5,000 Awesome Facts (About Everything!) (Natio...   \n",
       "\n",
       "                     Author  User Rating  Reviews  Price  Year        Genre  \n",
       "0                  JJ Smith          4.7    17350      8  2016  Non Fiction  \n",
       "1              Stephen King          4.6     2052     22  2011      Fiction  \n",
       "2        Jordan B. Peterson          4.7    18979     15  2018  Non Fiction  \n",
       "3             George Orwell          4.7    21424      6  2017      Fiction  \n",
       "4  National Geographic Kids          4.8     7665     12  2019  Non Fiction  "
      ]
     },
     "execution_count": 4,
     "metadata": {},
     "output_type": "execute_result"
    }
   ],
   "source": [
    "df.head()"
   ]
  },
  {
   "cell_type": "markdown",
   "id": "07970a46-1d31-4967-af96-0262e91e64f2",
   "metadata": {},
   "source": [
    "Виведіть розміри датасету (використовуйте атрибут shape)"
   ]
  },
  {
   "cell_type": "code",
   "execution_count": 5,
   "id": "d7d10e7f-d956-4aa9-b862-dc49294c4363",
   "metadata": {},
   "outputs": [
    {
     "data": {
      "text/plain": [
       "'Відповідь: Датасет зберігає 550 книг'"
      ]
     },
     "execution_count": 5,
     "metadata": {},
     "output_type": "execute_result"
    }
   ],
   "source": [
    "row, column = df.shape\n",
    "answer_book = f'Відповідь: Датасет зберігає {row} книг'\n",
    "answer_book"
   ]
  },
  {
   "cell_type": "markdown",
   "id": "fdac7218-2bf8-498c-acc6-9d17da8eaa87",
   "metadata": {},
   "source": [
    "Первинне дослідження даних"
   ]
  },
  {
   "cell_type": "code",
   "execution_count": 6,
   "id": "335316cb-ab02-4314-abe8-100c59e01e61",
   "metadata": {},
   "outputs": [],
   "source": [
    "df.columns = ['name', 'author', 'user_rating', 'reviews', 'price', 'year', 'genre']"
   ]
  },
  {
   "cell_type": "markdown",
   "id": "ffd14192-6007-4f1c-b872-c19e9a976a4e",
   "metadata": {},
   "source": [
    "Перевірте, чи у всіх рядків вистачає даних: виведіть кількість пропусків (na) у кожному зі стовпців (використовуйте функції isna та sum)"
   ]
  },
  {
   "cell_type": "code",
   "execution_count": 7,
   "id": "123ff8d2-409c-4329-9520-3b9a25bdc60f",
   "metadata": {},
   "outputs": [
    {
     "data": {
      "text/plain": [
       "'Чи є в якихось змінних пропуски? Відповідь: Ні'"
      ]
     },
     "execution_count": 7,
     "metadata": {},
     "output_type": "execute_result"
    }
   ],
   "source": [
    "missing_data = df.isnull().sum() / len(df)\n",
    "count = 0\n",
    "for i in missing_data:\n",
    "    count+=i\n",
    "if count != 0:\n",
    "    answer_miss = 'Так'\n",
    "else:\n",
    "    answer_miss = 'Ні'\n",
    "f'Чи є в якихось змінних пропуски? Відповідь: {answer_miss}'    "
   ]
  },
  {
   "cell_type": "markdown",
   "id": "80f639f5-65ec-476f-b62b-ead60647cfb0",
   "metadata": {},
   "source": [
    "Перевірте, які є унікальні значення в колонці genre (використовуйте функцію unique)"
   ]
  },
  {
   "cell_type": "code",
   "execution_count": 8,
   "id": "8de41d6b-4f18-4f40-8c9d-a3b5e9d69c2b",
   "metadata": {},
   "outputs": [
    {
     "data": {
      "text/plain": [
       "\"Унікальні жанри - ['Non Fiction' 'Fiction']\""
      ]
     },
     "execution_count": 8,
     "metadata": {},
     "output_type": "execute_result"
    }
   ],
   "source": [
    "unique_genres = df['genre'].unique()\n",
    "answer_unique = f'Унікальні жанри - {unique_genres}'\n",
    "answer_unique"
   ]
  },
  {
   "cell_type": "markdown",
   "id": "4b5e3f49-dcdd-40e1-9a73-1d9afd2462f5",
   "metadata": {},
   "source": [
    "Тепер подивіться на розподіл цін: побудуйте діаграму (використовуйте kind='hist')"
   ]
  },
  {
   "cell_type": "code",
   "execution_count": 9,
   "id": "e68968d7-bf3b-4dff-9fa5-3273a6ca7100",
   "metadata": {},
   "outputs": [
    {
     "data": {
      "image/png": "[encoded data removed]",
      "text/plain": [
       "<Figure size 640x480 with 1 Axes>"
      ]
     },
     "metadata": {},
     "output_type": "display_data"
    }
   ],
   "source": [
    "%matplotlib inline\n",
    "df['price'].plot(kind='hist', bins=10, edgecolor='black')\n",
    "\n",
    "plt.title('Розподілення цін')\n",
    "plt.xlabel('Ціна')\n",
    "plt.ylabel('Частота')\n",
    "\n",
    "plt.show()"
   ]
  },
  {
   "cell_type": "markdown",
   "id": "7aee87b3-bb45-49af-9372-b14414ca62f3",
   "metadata": {},
   "source": [
    "Визначте, яка ціна у нас максимальна, мінімальна, середня, медіанна (використовуйте функції max, min, mean, median)"
   ]
  },
  {
   "cell_type": "code",
   "execution_count": 10,
   "id": "d13ba82b-02ca-487f-90ab-bb62777cdebc",
   "metadata": {},
   "outputs": [
    {
     "name": "stdout",
     "output_type": "stream",
     "text": [
      "Максимальна ціна: 105\n",
      "Мінімальна ціна: 0\n",
      "Середня ціна: 13.1\n",
      "Медіанна ціна: 11.0\n"
     ]
    }
   ],
   "source": [
    "max_price = df['price'].max()\n",
    "min_price = df['price'].min()\n",
    "mean_price = df['price'].mean()\n",
    "median_price = df['price'].median()\n",
    "print(f'Максимальна ціна: {max_price}\\nМінімальна ціна: {min_price}\\nСередня ціна: {mean_price}\\nМедіанна ціна: {median_price}')"
   ]
  },
  {
   "cell_type": "markdown",
   "id": "84dd1781-791c-4d36-a4c0-00fd6b9fa346",
   "metadata": {},
   "source": [
    "Пошук та сортування даних"
   ]
  },
  {
   "cell_type": "markdown",
   "id": "608cf20d-0d46-4c25-9ce3-495a0b863851",
   "metadata": {},
   "source": [
    "Який рейтинг у датасеті найвищий?"
   ]
  },
  {
   "cell_type": "code",
   "execution_count": 14,
   "id": "0b7cc374-c99a-4e59-9e31-707701b84a9e",
   "metadata": {},
   "outputs": [
    {
     "name": "stdout",
     "output_type": "stream",
     "text": [
      "Max rating: 4.9\n"
     ]
    }
   ],
   "source": [
    "max_rating = df['user_rating'].max()\n",
    "print(f'Max rating: {max_rating}')"
   ]
  },
  {
   "cell_type": "markdown",
   "id": "a45b0ce2-4669-4561-8c49-559dcd67cd30",
   "metadata": {},
   "source": [
    " Скільки книг мають такий рейтинг?"
   ]
  },
  {
   "cell_type": "code",
   "execution_count": 17,
   "id": "649272f5-366e-46c4-ad48-e8fd6fcc1866",
   "metadata": {},
   "outputs": [
    {
     "name": "stdout",
     "output_type": "stream",
     "text": [
      "Books with max rating: 52\n"
     ]
    }
   ],
   "source": [
    "books_with_max_rating = df[df['user_rating'] == max_rating].shape[0]\n",
    "print(f'Books with max rating: {books_with_max_rating}')"
   ]
  },
  {
   "cell_type": "markdown",
   "id": "311c90ef-0dcb-4190-a759-0328dd7d91fc",
   "metadata": {},
   "source": [
    "Яка книга має найбільше відгуків?"
   ]
  },
  {
   "cell_type": "code",
   "execution_count": 23,
   "id": "9a736490-8727-4a6e-8717-88a26202f312",
   "metadata": {},
   "outputs": [
    {
     "name": "stdout",
     "output_type": "stream",
     "text": [
      "Book with max reviews - Where the Crawdads Sing/Delia Owens\n"
     ]
    }
   ],
   "source": [
    "max_review_idx = df['reviews'].idxmax()\n",
    "book_with_max_review = df.loc[max_review_idx, 'name']\n",
    "author = df.loc[max_review_idx, 'author']\n",
    "print(f'Book with max reviews - {book_with_max_review}/{author}')"
   ]
  },
  {
   "cell_type": "markdown",
   "id": "4df27f75-b6f3-4894-a725-50a9221d93b7",
   "metadata": {},
   "source": [
    "З тих книг, що потрапили до Топ-50 у 2015 році, яка книга найдорожча (можна використати проміжний датафрейм)?"
   ]
  },
  {
   "cell_type": "code",
   "execution_count": 30,
   "id": "45b89ae3-daf4-45b4-9998-cd14860309cb",
   "metadata": {},
   "outputs": [
    {
     "name": "stdout",
     "output_type": "stream",
     "text": [
      "The most expensive book from the top 50 in 2015 is Hamilton: The Revolution\n"
     ]
    }
   ],
   "source": [
    "top_books_2015 = df[df['year'] == 2015]\n",
    "top_50_books_2015 = df.sort_values(by='user_rating',ascending=False).head(50)\n",
    "max_price_from_50_books_idx = top_50_books_2015['price'].idxmax()\n",
    "max_price_top_50_book = top_50_books_2015.loc[max_price_from_50_books_idx, 'name']\n",
    "print(f'The most expensive book from the top 50 in 2015 is {max_price_top_50_book}')"
   ]
  },
  {
   "cell_type": "markdown",
   "id": "ae492663-7764-49d8-bc96-22e84bd1d517",
   "metadata": {},
   "source": [
    "Скільки книг жанру Fiction потрапили до Топ-50 у 2010 році (використовуйте &)?"
   ]
  },
  {
   "cell_type": "code",
   "execution_count": 40,
   "id": "f109a107-d710-4931-939c-d51fefee21ad",
   "metadata": {},
   "outputs": [
    {
     "name": "stdout",
     "output_type": "stream",
     "text": [
      "50 books\n"
     ]
    }
   ],
   "source": [
    "all_fiction = df[(df['genre'] == 'Fiction') & (df['year'] == 2010)]\n",
    "top_50_fiction = df.sort_values(by='user_rating', ascending=False).head(50)\n",
    "print(f'{len(top_50_fiction)} books')"
   ]
  },
  {
   "cell_type": "markdown",
   "id": "ba37a8cb-39d4-4733-adbc-ec009602f1c2",
   "metadata": {},
   "source": [
    "Скільки книг з рейтингом 4.9 потрапило до рейтингу у 2010 та 2011 роках (використовуйте | або функцію isin)?"
   ]
  },
  {
   "cell_type": "code",
   "execution_count": 47,
   "id": "0c9addbd-3dc6-4eac-8ae9-6ad1bcffc270",
   "metadata": {},
   "outputs": [
    {
     "name": "stdout",
     "output_type": "stream",
     "text": [
      "1 book\n"
     ]
    }
   ],
   "source": [
    "books_with_rating_4_9 = df[(df['user_rating'] == 4.9) & ((df['year'] == 2010) | (df['year'] == 2011))]\n",
    "num_books_with_rating_4_9 = books_with_rating_4_9.shape[0]\n",
    "if num_books_with_rating_4_9 <= 1:\n",
    "    print(f'{num_books_with_rating_4_9} book')\n",
    "else:\n",
    "    print(f'{num_books_with_rating_4_9} books')"
   ]
  },
  {
   "cell_type": "markdown",
   "id": "5985d5ea-ffb5-4cf8-a9c6-bac2e86415c9",
   "metadata": {},
   "source": [
    "І насамкінець, давайте відсортуємо за зростанням ціни всі книги, які потрапили до рейтингу в 2015 році і коштують дешевше за 8 доларів (використовуйте функцію sort_values).\n",
    "Відповідь: Яка книга остання у відсортованому списку? "
   ]
  },
  {
   "cell_type": "code",
   "execution_count": 52,
   "id": "c25e6ce8-81fb-4d87-ad1a-6622b9d43f91",
   "metadata": {},
   "outputs": [
    {
     "data": {
      "text/plain": [
       "name           Old School (Diary of a Wimpy Kid #10)\n",
       "author                                   Jeff Kinney\n",
       "user_rating                                      4.8\n",
       "reviews                                         6169\n",
       "price                                              7\n",
       "year                                            2015\n",
       "genre                                        Fiction\n",
       "Name: 253, dtype: object"
      ]
     },
     "execution_count": 52,
     "metadata": {},
     "output_type": "execute_result"
    }
   ],
   "source": [
    "books_2015_under_8 = df[(df['year'] == 2015) & (df['price'] < 8)]\n",
    "sorted_books_2015_under_8 = books_2015_under_8.sort_values(by='price')\n",
    "sorted_books_2015_under_8.iloc[-1]"
   ]
  },
  {
   "cell_type": "markdown",
   "id": "30dafbbb-bc99-4205-963f-32f07f9f1710",
   "metadata": {},
   "source": [
    "Агрегування даних та з'єднання таблиць"
   ]
  },
  {
   "cell_type": "markdown",
   "id": "e266aa5a-5164-41be-b740-cf7ddb6683ba",
   "metadata": {},
   "source": [
    "Для початку давайте подивимося на максимальну та мінімальну ціни для кожного з жанрів (використовуйте функції groupby та agg, для підрахунку мінімальних та максимальних значень використовуйте max та min). Не беріть усі стовпці, виберіть тільки потрібні вам\n",
    "Відповідь: Максимальна ціна для жанру Fiction: Відповідь\n",
    "Відповідь: Мінімальна ціна для жанру Fiction: Відповідь\n",
    "Відповідь: Максимальна ціна для жанру Non Fiction: Відповідь\n",
    "Відповідь: Мінімальна ціна для жанру Non Fiction: Відповідь"
   ]
  },
  {
   "cell_type": "code",
   "execution_count": 53,
   "id": "b8eefb6c-89b1-45eb-8d0a-5f103092b956",
   "metadata": {},
   "outputs": [
    {
     "data": {
      "text/html": [
       "<div>\n",
       "<style scoped>\n",
       "    .dataframe tbody tr th:only-of-type {\n",
       "        vertical-align: middle;\n",
       "    }\n",
       "\n",
       "    .dataframe tbody tr th {\n",
       "        vertical-align: top;\n",
       "    }\n",
       "\n",
       "    .dataframe thead th {\n",
       "        text-align: right;\n",
       "    }\n",
       "</style>\n",
       "<table border=\"1\" class=\"dataframe\">\n",
       "  <thead>\n",
       "    <tr style=\"text-align: right;\">\n",
       "      <th></th>\n",
       "      <th>min</th>\n",
       "      <th>max</th>\n",
       "    </tr>\n",
       "    <tr>\n",
       "      <th>genre</th>\n",
       "      <th></th>\n",
       "      <th></th>\n",
       "    </tr>\n",
       "  </thead>\n",
       "  <tbody>\n",
       "    <tr>\n",
       "      <th>Fiction</th>\n",
       "      <td>0</td>\n",
       "      <td>82</td>\n",
       "    </tr>\n",
       "    <tr>\n",
       "      <th>Non Fiction</th>\n",
       "      <td>0</td>\n",
       "      <td>105</td>\n",
       "    </tr>\n",
       "  </tbody>\n",
       "</table>\n",
       "</div>"
      ],
      "text/plain": [
       "             min  max\n",
       "genre                \n",
       "Fiction        0   82\n",
       "Non Fiction    0  105"
      ]
     },
     "execution_count": 53,
     "metadata": {},
     "output_type": "execute_result"
    }
   ],
   "source": [
    "price_summary = df.groupby('genre')['price'].agg(['min', 'max'])\n",
    "price_summary"
   ]
  },
  {
   "cell_type": "code",
   "execution_count": 57,
   "id": "27e7aaee-f82a-405e-9000-a9839af24bbe",
   "metadata": {},
   "outputs": [
    {
     "name": "stdout",
     "output_type": "stream",
     "text": [
      "max_price_fiction: 82\n",
      "min_price_fiction: 0\n",
      "max_price_nonfiction:105\n",
      "min_price_nonfiction:0\n"
     ]
    }
   ],
   "source": [
    "max_price_fiction = price_summary.loc['Fiction', 'max']\n",
    "min_price_fiction = price_summary.loc['Fiction', 'min']\n",
    "max_price_nonfiction = price_summary.loc['Non Fiction', 'max']\n",
    "min_price_nonfiction = price_summary.loc['Non Fiction', 'min']\n",
    "print(f'max_price_fiction: {max_price_fiction}\\nmin_price_fiction: {min_price_fiction}\\nmax_price_nonfiction:{max_price_nonfiction}\\n' +\n",
    "f'min_price_nonfiction:{min_price_nonfiction}')"
   ]
  },
  {
   "cell_type": "markdown",
   "id": "d337168d-b588-445d-8a5b-36aaf1d5adcc",
   "metadata": {},
   "source": [
    "Тепер створіть новий датафрейм, який вміщатиме кількість книг для кожного з авторів (використовуйте функції groupby та agg, \n",
    "для підрахунку кількості використовуйте count). Не беріть усі стовпці, виберете тільки потрібні"
   ]
  },
  {
   "cell_type": "code",
   "execution_count": 61,
   "id": "b10b9057-359c-4be7-862a-850e3d76360d",
   "metadata": {},
   "outputs": [
    {
     "name": "stdout",
     "output_type": "stream",
     "text": [
      "Розмірність таблиці: (248, 2)\n",
      "Автор, який має найбільше книг: Jeff Kinney\n",
      "Кількість книг цього автора: 12\n"
     ]
    }
   ],
   "source": [
    "books_per_author = df.groupby('author').size().reset_index(name='books')\n",
    "table_shape = books_per_author.shape\n",
    "max_books_author = books_per_author.loc[books_per_author['books'].idxmax()]\n",
    "print(f\"Розмірність таблиці: {table_shape}\")\n",
    "print(f\"Автор, який має найбільше книг: {max_books_author['author']}\")\n",
    "print(f\"Кількість книг цього автора: {max_books_author['books']}\")"
   ]
  },
  {
   "cell_type": "markdown",
   "id": "a62e78da-aaae-4cc7-ad08-fd3c0f9a140f",
   "metadata": {},
   "source": [
    "Тепер створіть другий датафрейм, який буде вміщати середній рейтинг для кожного автора \n",
    "(використовуйте функції groupby та agg, для підрахунку середнього значення використовуйте mean). Не беріть усі стовпці, виберете тільки потрібні\n",
    "Відповідь: У якого автора середній рейтинг мінімальний? Відповідь:\n",
    "Відповідь: Який у цього автора середній рейтинг? Відповідь:"
   ]
  },
  {
   "cell_type": "code",
   "execution_count": 63,
   "id": "65fdeb2c-ba41-4017-a318-1448b823831f",
   "metadata": {},
   "outputs": [
    {
     "name": "stdout",
     "output_type": "stream",
     "text": [
      "Автор, у якого середній рейтинг мінімальний: Donna Tartt\n",
      "Середній рейтинг цього автора: 3.9\n"
     ]
    }
   ],
   "source": [
    "average_rating_per_author = df.groupby('author')['user_rating'].agg('mean').reset_index(name='average_rating')\n",
    "min_avg_rating_author = average_rating_per_author.loc[average_rating_per_author['average_rating'].idxmin()]\n",
    "print(f\"Автор, у якого середній рейтинг мінімальний: {min_avg_rating_author['author']}\")\n",
    "print(f\"Середній рейтинг цього автора: {min_avg_rating_author['average_rating']}\")"
   ]
  },
  {
   "cell_type": "markdown",
   "id": "76383f5b-4583-4be9-9f17-1e2584cad8c0",
   "metadata": {},
   "source": [
    "З'єднайте останні два датафрейми так, щоб для кожного автора було видно кількість книг та середній рейтинг (Використовуйте функцію concat з параметром axis=1). Збережіть результат у змінну\n",
    "Відсортуйте датафрейм за зростаючою кількістю книг та зростаючим рейтингом (використовуйте функцію sort_values)\n",
    "Відповідь: Який автор перший у списку?"
   ]
  },
  {
   "cell_type": "code",
   "execution_count": 68,
   "id": "660f6095-2bd2-4832-92ac-e0649398bffb",
   "metadata": {},
   "outputs": [
    {
     "name": "stdout",
     "output_type": "stream",
     "text": [
      "Автор, який перший у списку: Muriel Barbery\n"
     ]
    }
   ],
   "source": [
    "combined_df = pd.concat([books_per_author.set_index('author'), average_rating_per_author.set_index('author')], axis=1).reset_index()\n",
    "\n",
    "sorted_combined_df = combined_df.sort_values(by=['books', 'average_rating'])\n",
    "\n",
    "print(f\"Автор, який перший у списку: {sorted_combined_df.iloc[0]['author']}\")"
   ]
  },
  {
   "cell_type": "code",
   "execution_count": 69,
   "id": "59a1100c-9461-4f23-85bd-150decee90df",
   "metadata": {},
   "outputs": [
    {
     "data": {
      "image/png": "[encoded data removed]",
      "text/plain": [
       "<Figure size 1000x600 with 1 Axes>"
      ]
     },
     "metadata": {},
     "output_type": "display_data"
    }
   ],
   "source": [
    "plt.figure(figsize=(10, 6))\n",
    "plt.hist(df['user_rating'], bins=10, color='skyblue', edgecolor='black')\n",
    "plt.xlabel('Рейтинг книги')\n",
    "plt.ylabel('Частота')\n",
    "plt.title('Розподіл рейтингів книг')\n",
    "plt.grid(True)\n",
    "plt.show()"
   ]
  },
  {
   "cell_type": "code",
   "execution_count": 71,
   "id": "f59a9e04-b5d3-4c4b-91db-bf90a86b9aeb",
   "metadata": {},
   "outputs": [
    {
     "data": {
      "image/png": "[encoded data removed]",
      "text/plain": [
       "<Figure size 1000x600 with 1 Axes>"
      ]
     },
     "metadata": {},
     "output_type": "display_data"
    }
   ],
   "source": [
    "plt.figure(figsize=(10, 6))\n",
    "sns.boxplot(y=df['price'], color='lightgreen')\n",
    "plt.ylabel('Ціна книги')\n",
    "plt.title('Ящик з вусами для цін книг')\n",
    "plt.grid(True)\n",
    "plt.show()"
   ]
  },
  {
   "cell_type": "code",
   "execution_count": 72,
   "id": "5f0a3ee0-481a-4596-a84d-07ab12cfd76e",
   "metadata": {},
   "outputs": [
    {
     "data": {
      "image/png": "[encoded data removed]",
      "text/plain": [
       "<Figure size 1000x600 with 1 Axes>"
      ]
     },
     "metadata": {},
     "output_type": "display_data"
    }
   ],
   "source": [
    "plt.figure(figsize=(10, 6))\n",
    "plt.scatter(df['user_rating'], df['reviews'], color='coral', edgecolor='black')\n",
    "plt.xlabel('Рейтинг книги')\n",
    "plt.ylabel('Кількість відгуків')\n",
    "plt.title('Залежність кількості відгуків від рейтингу книги')\n",
    "plt.grid(True)\n",
    "plt.show()"
   ]
  },
  {
   "cell_type": "code",
   "execution_count": null,
   "id": "8d507e6e-f26c-4ab2-8ef2-8d80caa8c374",
   "metadata": {},
   "outputs": [],
   "source": []
  }
 ],
 "metadata": {
  "kernelspec": {
   "display_name": "Python 3 (ipykernel)",
   "language": "python",
   "name": "python3"
  },
  "language_info": {
   "codemirror_mode": {
    "name": "ipython",
    "version": 3
   },
   "file_extension": ".py",
   "mimetype": "text/x-python",
   "name": "python",
   "nbconvert_exporter": "python",
   "pygments_lexer": "ipython3",
   "version": "3.11.9"
  }
 },
 "nbformat": 4,
 "nbformat_minor": 5
}
