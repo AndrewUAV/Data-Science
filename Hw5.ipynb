{
 "cells": [
  {
   "cell_type": "code",
   "execution_count": 69,
   "id": "21f74f42-f7a2-4f4f-83df-3b73d9605e88",
   "metadata": {},
   "outputs": [],
   "source": [
    "import numpy as np\n",
    "import pandas as pd\n",
    "import pickle\n",
    "\n",
    "from os import listdir\n",
    "from os.path import join, isdir\n",
    "from sklearn import model_selection, svm\n",
    "from sklearn.metrics import mean_absolute_error, mean_squared_error, accuracy_score, classification_report\n",
    "from sklearn.ensemble import RandomForestClassifier"
   ]
  },
  {
   "cell_type": "code",
   "execution_count": 70,
   "id": "535fc7c5-7a16-4e8a-9550-cba357485189",
   "metadata": {},
   "outputs": [
    {
     "data": {
      "text/plain": [
       "['idle', 'running', 'stairs', 'walking']"
      ]
     },
     "execution_count": 70,
     "metadata": {},
     "output_type": "execute_result"
    }
   ],
   "source": [
    "# отримаємо список папок з данними\n",
    "path = 'data'\n",
    "dirs = [data for data in os.listdir(path) if os.path.isdir(os.path.join(path, data))]\n",
    "dirs"
   ]
  },
  {
   "cell_type": "code",
   "execution_count": 71,
   "id": "8917a692-e208-49cc-95be-3dcf6dbde3fe",
   "metadata": {},
   "outputs": [
    {
     "name": "stdout",
     "output_type": "stream",
     "text": [
      "idle: 1039\n",
      "running: 3408\n",
      "stairs: 165\n",
      "walking: 1850\n"
     ]
    }
   ],
   "source": [
    "# дізнаємось к-сть файлів в кожній з папок\n",
    "for d in dirs:\n",
    "    path_to_dir = os.path.join(path, d)\n",
    "    length = len(os.listdir(path_to_dir))\n",
    "    print(f'{d}: {length}')"
   ]
  },
  {
   "cell_type": "code",
   "execution_count": 72,
   "id": "e846d1cb-c00a-480c-ace8-1e51203f2444",
   "metadata": {},
   "outputs": [
    {
     "name": "stdout",
     "output_type": "stream",
     "text": [
      "   accelerometer_X  accelerometer_Y  accelerometer_Z\n",
      "0         1.000776         4.616021         8.576031\n",
      "1         0.718261         4.209007         8.446744\n",
      "2        -0.909797        -0.282516         9.203311\n",
      "3         5.099650         0.148441         8.418014\n",
      "4         1.762132        -0.162806         9.251195\n"
     ]
    }
   ],
   "source": [
    "def read_current_csv(i, j):\n",
    "    \"\"\"\n",
    "    _____________________________\n",
    "    i - number of dir \n",
    "    0 - idle\n",
    "    1 - running\n",
    "    2 - stairs\n",
    "    3 - walking\n",
    "    _____________________________\n",
    "    j - number of csv file in dir\n",
    "    j є (0, 3407)\n",
    "    _____________________________\n",
    "    return  head(5) of data\n",
    "    \"\"\"\n",
    "    dirs = [\"idle\", \"running\", \"stairs\", \"walking\"]  \n",
    "    path = \"data\"  \n",
    "    directory_path = os.path.join(path, dirs[i])\n",
    "    list_of_files = os.listdir(directory_path)\n",
    "\n",
    "    if j < 0 or j >= len(list_of_files):\n",
    "        raise IndexError(f\" j must be in 0 to {len(list_of_files) - 1}\")\n",
    "    \n",
    "    file_path = os.path.join(directory_path, list_of_files[j])\n",
    "    \n",
    "    if not os.path.isfile(file_path):\n",
    "        raise FileNotFoundError(f\"file {file_path} do not exists.\")\n",
    "    \n",
    "    frame = pd.read_csv(file_path)\n",
    "    return frame.head(5)\n",
    "\n",
    "print(read_current_csv(0, 0))"
   ]
  },
  {
   "cell_type": "markdown",
   "id": "c4906fe2-b463-4e50-9394-01708e038275",
   "metadata": {},
   "source": [
    "Підготовка даних"
   ]
  },
  {
   "cell_type": "code",
   "execution_count": 73,
   "id": "748eb7aa-2c28-42df-8525-325de6c508af",
   "metadata": {},
   "outputs": [],
   "source": [
    "def get_statistics(frame):\n",
    "    features = np.array([])\n",
    "    features = np.concatenate((features, frame.max(axis=0).values), axis=0)\n",
    "    features = np.concatenate((features, frame.min(axis=0).values), axis=0)\n",
    "    features = np.concatenate((features, frame.mean(axis=0).values), axis=0)\n",
    "    features = np.concatenate((features, frame.std(axis=0).values), axis=0)\n",
    "    features = np.concatenate((features, frame.var(axis=0).values), axis=0)\n",
    "    features = np.concatenate((features, frame.median(axis=0).values), axis=0)\n",
    "    features = np.concatenate((features, frame.idxmax(axis=0).values), axis=0)\n",
    "    features = np.concatenate((features, frame.idxmin(axis=0).values), axis=0)\n",
    "    correlations = frame.corr()\n",
    "    corr = np.array([correlations['accelerometer_X']['accelerometer_Y'], correlations['accelerometer_X']['accelerometer_Z'],\n",
    "                     correlations['accelerometer_Y']['accelerometer_Z']])\n",
    "    features = np.concatenate((features, corr), axis=0)\n",
    "\n",
    "    frame['mean_X'] = frame.mean(axis=0)['accelerometer_X']\n",
    "    frame['mean_Y'] = frame.mean(axis=0)['accelerometer_Y']\n",
    "    frame['mean_Z'] = frame.mean(axis=0)['accelerometer_Z']\n",
    "    \n",
    "    mae_X = mean_absolute_error(frame['accelerometer_X'], frame['mean_X'])\n",
    "    mae_Y = mean_absolute_error(frame['accelerometer_Y'], frame['mean_Y'])\n",
    "    mae_Z = mean_absolute_error(frame['accelerometer_Z'], frame['mean_Z'])\n",
    "    \n",
    "    rmse_x = np.sqrt(mean_squared_error(frame['accelerometer_X'], frame['mean_X']))\n",
    "    rmse_y = np.sqrt(mean_squared_error(frame['accelerometer_Y'], frame['mean_Y']))\n",
    "    rmse_z = np.sqrt(mean_squared_error(frame['accelerometer_Z'], frame['mean_Z']))\n",
    "\n",
    "    metrics = np.array([mae_X, mae_Y, mae_Z, rmse_x, rmse_y, rmse_z])\n",
    "    features = np.concatenate((features, metrics), axis=0)\n",
    "\n",
    "    return features"
   ]
  },
  {
   "cell_type": "code",
   "execution_count": 74,
   "id": "5fc52863-8836-413c-b4d9-95995e0edaf3",
   "metadata": {},
   "outputs": [
    {
     "data": {
      "text/plain": [
       "33"
      ]
     },
     "execution_count": 74,
     "metadata": {},
     "output_type": "execute_result"
    }
   ],
   "source": [
    "len(get_statistics(read_current_csv(0, 0)))"
   ]
  },
  {
   "cell_type": "code",
   "execution_count": 83,
   "id": "1c97ca37-cd72-4a11-a7d9-0e9a316d11c4",
   "metadata": {},
   "outputs": [],
   "source": [
    "# підготовка класу\n",
    "def class_data_stat_prepare(class_name, class_number):\n",
    "    path_data = join(path, class_name)\n",
    "    X = []\n",
    "    for item in listdir(path_data):\n",
    "        frame = pd.read_csv(join(path_data, item))\n",
    "        features = get_statistics(frame)\n",
    "        X.append(features)\n",
    "\n",
    "    y = [class_number]*len(X)\n",
    "\n",
    "    X = np.array(X)\n",
    "    y = np.array(y)\n",
    "\n",
    "    return X, y"
   ]
  },
  {
   "cell_type": "code",
   "execution_count": 84,
   "id": "69c0a25b-1936-46ca-96f8-2782b4fc19c9",
   "metadata": {},
   "outputs": [],
   "source": [
    "def create_dataset(class_prepare):\n",
    "    X_idle, y_idle = class_prepare('idle', 0)\n",
    "    X_walking, y_walking = class_prepare('walking', 1)\n",
    "    X_stairs, y_stairs = class_prepare('stairs', 2)\n",
    "    X_running, y_running = class_prepare('running', 3)\n",
    "\n",
    "    X = np.concatenate((X_idle, X_walking), axis=0)\n",
    "    X = np.concatenate((X, X_stairs), axis=0)\n",
    "    X = np.concatenate((X, X_running), axis=0)\n",
    "\n",
    "    Y = np.concatenate((y_idle, y_walking), axis=0)\n",
    "    Y = np.concatenate((Y, y_stairs), axis=0)\n",
    "    Y = np.concatenate((Y, y_running), axis=0)\n",
    "\n",
    "    return X, Y"
   ]
  },
  {
   "cell_type": "code",
   "execution_count": 85,
   "id": "470bda8b-e833-4080-acb2-d706224be68d",
   "metadata": {},
   "outputs": [],
   "source": [
    "X, y = create_dataset(class_data_stat_prepare)"
   ]
  },
  {
   "cell_type": "code",
   "execution_count": 86,
   "id": "35097a29-5d51-41e7-ba83-a732759b9549",
   "metadata": {},
   "outputs": [],
   "source": [
    "def save_data(prefix, X, y):\n",
    "    with open(f'{prefix}_X.pickle', 'wb') as f:\n",
    "        pickle.dump(X, f)\n",
    "    with open(f'{prefix}_y.pickle', 'wb') as f:\n",
    "        pickle.dump(y, f)"
   ]
  },
  {
   "cell_type": "code",
   "execution_count": 87,
   "id": "e6365783-0f62-4c3b-b19d-0d963070a476",
   "metadata": {},
   "outputs": [],
   "source": [
    "save_data('data', X, y)"
   ]
  },
  {
   "cell_type": "code",
   "execution_count": 88,
   "id": "10f87301-edc8-41be-8669-702f446d960a",
   "metadata": {},
   "outputs": [],
   "source": [
    "def load_data(prefix):\n",
    "    with open(f'{prefix}_X.pickle', 'rb') as f:\n",
    "        X = pickle.load(f)\n",
    "    with open(f'{prefix}_y.pickle', 'rb') as f:\n",
    "        y = pickle.load(f)\n",
    "    return X, y"
   ]
  },
  {
   "cell_type": "code",
   "execution_count": 89,
   "id": "565fb46a-6151-44e1-a839-ce5910cdec5a",
   "metadata": {},
   "outputs": [],
   "source": [
    "X, y = load_data('data')"
   ]
  },
  {
   "cell_type": "code",
   "execution_count": 92,
   "id": "ff13ce53-b483-4e0b-b6c6-b0bfb41b5ad5",
   "metadata": {},
   "outputs": [],
   "source": [
    "X_train, X_test, y_train, y_test = model_selection.train_test_split(X, y, train_size=0.3)"
   ]
  },
  {
   "cell_type": "code",
   "execution_count": 93,
   "id": "4632bc8e-032a-4348-8175-39cef6cebb0e",
   "metadata": {},
   "outputs": [
    {
     "name": "stdout",
     "output_type": "stream",
     "text": [
      "accuracy SVM ovo:  0.9131299734748011\n",
      "accuracy SVM ovr:  0.9131299734748011\n",
      "accuracy RandomForest:  0.9942528735632183\n"
     ]
    }
   ],
   "source": [
    "# порівнння VM Classifier VS RandomForest Classifier\n",
    "cls_ovo = svm.SVC(decision_function_shape='ovo', kernel='rbf', gamma=0.005, probability=True).fit(X_train, y_train)\n",
    "cls_ovr = svm.SVC(decision_function_shape='ovr', kernel='rbf', gamma=0.005, probability=True).fit(X_train, y_train)\n",
    "\n",
    "cls_forest = RandomForestClassifier().fit(X_train, y_train)\n",
    "svm_ovo_pred = cls_ovo.predict(X_test)\n",
    "svm_ovr_pred = cls_ovr.predict(X_test)\n",
    "\n",
    "forest_pred = cls_forest.predict(X_test)\n",
    "svm_ovo_accuracy = accuracy_score(y_test, svm_ovo_pred)\n",
    "svm_ovr_accuracy = accuracy_score(y_test, svm_ovr_pred)\n",
    "\n",
    "forest_ovr_accuracy = accuracy_score(y_test, forest_pred)\n",
    "\n",
    "print(\"accuracy SVM ovo: \", svm_ovo_accuracy)\n",
    "print(\"accuracy SVM ovr: \", svm_ovr_accuracy)\n",
    "print(\"accuracy RandomForest: \", forest_ovr_accuracy)"
   ]
  },
  {
   "cell_type": "code",
   "execution_count": 94,
   "id": "23354129-3f4b-48e6-b560-f41d19d8133f",
   "metadata": {},
   "outputs": [
    {
     "name": "stdout",
     "output_type": "stream",
     "text": [
      "SVM ovo report: \n",
      "              precision    recall  f1-score   support\n",
      "\n",
      "           0       1.00      0.97      0.99       738\n",
      "           1       0.98      0.76      0.86      1309\n",
      "           2       1.00      0.42      0.59       114\n",
      "           3       0.86      1.00      0.93      2363\n",
      "\n",
      "    accuracy                           0.91      4524\n",
      "   macro avg       0.96      0.79      0.84      4524\n",
      "weighted avg       0.92      0.91      0.91      4524\n",
      "\n"
     ]
    }
   ],
   "source": [
    "svm_ovo_report = classification_report(y_test, svm_ovo_pred)\n",
    "print(\"SVM ovo report: \")\n",
    "print(svm_ovo_report)"
   ]
  },
  {
   "cell_type": "code",
   "execution_count": 95,
   "id": "b1a03ed2-6999-44b9-b8a7-b80e33ad3d02",
   "metadata": {},
   "outputs": [
    {
     "name": "stdout",
     "output_type": "stream",
     "text": [
      "SVM ovr report: \n",
      "              precision    recall  f1-score   support\n",
      "\n",
      "           0       1.00      0.97      0.99       738\n",
      "           1       0.98      0.76      0.86      1309\n",
      "           2       1.00      0.42      0.59       114\n",
      "           3       0.86      1.00      0.93      2363\n",
      "\n",
      "    accuracy                           0.91      4524\n",
      "   macro avg       0.96      0.79      0.84      4524\n",
      "weighted avg       0.92      0.91      0.91      4524\n",
      "\n"
     ]
    }
   ],
   "source": [
    "svm_ovr_report = classification_report(y_test, svm_ovr_pred)\n",
    "print(\"SVM ovr report: \")\n",
    "print(svm_ovr_report)"
   ]
  },
  {
   "cell_type": "code",
   "execution_count": 96,
   "id": "945907e1-7ae7-4be5-8bbc-615a6c455bca",
   "metadata": {},
   "outputs": [
    {
     "name": "stdout",
     "output_type": "stream",
     "text": [
      "RandomForest report: \n",
      "              precision    recall  f1-score   support\n",
      "\n",
      "           0       1.00      1.00      1.00       738\n",
      "           1       0.98      1.00      0.99      1309\n",
      "           2       0.97      0.80      0.88       114\n",
      "           3       1.00      1.00      1.00      2363\n",
      "\n",
      "    accuracy                           0.99      4524\n",
      "   macro avg       0.99      0.95      0.97      4524\n",
      "weighted avg       0.99      0.99      0.99      4524\n",
      "\n"
     ]
    }
   ],
   "source": [
    "forest_report = classification_report(y_test, forest_pred)\n",
    "print(\"RandomForest report: \")\n",
    "print(forest_report)"
   ]
  },
  {
   "cell_type": "code",
   "execution_count": null,
   "id": "fc5bba85-00ab-41e1-912c-4105559c7334",
   "metadata": {},
   "outputs": [],
   "source": []
  }
 ],
 "metadata": {
  "kernelspec": {
   "display_name": "Python 3 (ipykernel)",
   "language": "python",
   "name": "python3"
  },
  "language_info": {
   "codemirror_mode": {
    "name": "ipython",
    "version": 3
   },
   "file_extension": ".py",
   "mimetype": "text/x-python",
   "name": "python",
   "nbconvert_exporter": "python",
   "pygments_lexer": "ipython3",
   "version": "3.11.9"
  }
 },
 "nbformat": 4,
 "nbformat_minor": 5
}
