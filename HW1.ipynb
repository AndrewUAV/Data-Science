{
 "cells": [
  {
   "cell_type": "code",
   "execution_count": 7,
   "id": "ca27add2-ebc2-4538-b9af-eb0cffdd8797",
   "metadata": {},
   "outputs": [],
   "source": [
    "import numpy as np"
   ]
  },
  {
   "cell_type": "markdown",
   "id": "744cb3d9-d8f7-4f2e-a1ba-77bfa3ad6305",
   "metadata": {},
   "source": [
    "1. Створіть одновимірний масив (вектор) з першими 10-ма натуральними числами та виведіть його значення."
   ]
  },
  {
   "cell_type": "code",
   "execution_count": 10,
   "id": "b5670fe7-2ec6-4778-bcb0-3acf8862e94d",
   "metadata": {},
   "outputs": [
    {
     "name": "stdout",
     "output_type": "stream",
     "text": [
      "[ 1  2  3  4  5  6  7  8  9 10]\n"
     ]
    }
   ],
   "source": [
    "def item1():\n",
    "    return np.array([i for i in range(1, 11)], dtype=int)\n",
    "print(item1())"
   ]
  },
  {
   "cell_type": "markdown",
   "id": "f647a0be-e51f-467d-bac8-d3c3f7d93404",
   "metadata": {},
   "source": [
    "2. Створіть двовимірний масив (матрицю) розміром 3x3, заповніть його нулями та виведіть його значення."
   ]
  },
  {
   "cell_type": "code",
   "execution_count": 11,
   "id": "bb0447b2-a0a5-4625-b63a-fba226849a07",
   "metadata": {},
   "outputs": [
    {
     "name": "stdout",
     "output_type": "stream",
     "text": [
      "[[0 0 0]\n",
      " [0 0 0]\n",
      " [0 0 0]]\n"
     ]
    }
   ],
   "source": [
    "def item2():\n",
    "    return np.zeros((3,3), dtype=int)\n",
    "print(item2())"
   ]
  },
  {
   "cell_type": "markdown",
   "id": "49ac08b4-2f05-4267-b49a-8c3c8017ccff",
   "metadata": {},
   "source": [
    "3. Створіть масив розміром 5x5, заповніть його випадковими цілими числами в діапазоні від 1 до 10 та виведіть його значення."
   ]
  },
  {
   "cell_type": "code",
   "execution_count": 14,
   "id": "78830b80-7c9f-490f-ab15-ba7b5830f4b1",
   "metadata": {},
   "outputs": [
    {
     "name": "stdout",
     "output_type": "stream",
     "text": [
      "[[10  4  7  8  6]\n",
      " [10  7  9  5  6]\n",
      " [ 7  4 10  9  4]\n",
      " [ 5  6  9  3  6]\n",
      " [ 5  4  2  8  4]]\n"
     ]
    }
   ],
   "source": [
    "def item3():\n",
    "    return np.random.randint(1, 10 + 1, size=(5,5))\n",
    "print(item3())"
   ]
  },
  {
   "cell_type": "markdown",
   "id": "8f9b513a-176c-4ed2-a9ff-223253efe83d",
   "metadata": {},
   "source": [
    "4. Створіть масив розміром 4x4, заповніть його випадковими дійсними числами в діапазоні від 0 до 1 та виведіть його значення."
   ]
  },
  {
   "cell_type": "code",
   "execution_count": 16,
   "id": "c6f5de89-9cd5-459f-a340-54626986643b",
   "metadata": {},
   "outputs": [
    {
     "name": "stdout",
     "output_type": "stream",
     "text": [
      "[[0.85210719 0.47104428 0.87262275 0.96213009]\n",
      " [0.1942365  0.44624632 0.33989872 0.24784737]\n",
      " [0.02946743 0.42143502 0.29871719 0.33446948]\n",
      " [0.92863611 0.20951859 0.56691074 0.76035757]]\n"
     ]
    }
   ],
   "source": [
    "def item4():\n",
    "    return np.random.rand(4,4)\n",
    "print(item4())"
   ]
  },
  {
   "cell_type": "markdown",
   "id": "ee9917df-15c9-4fea-9a05-b0a5a7581f2f",
   "metadata": {},
   "source": [
    "5. Створіть два одновимірних масиви розміром 5, заповніть їх випадковими цілими числами в діапазоні від 1 до 10 та виконайте\n",
    "на них поелементні операції додавання, віднімання та множення."
   ]
  },
  {
   "cell_type": "code",
   "execution_count": 20,
   "id": "4307c190-e3cc-4b24-af26-2f5e56c28102",
   "metadata": {},
   "outputs": [
    {
     "name": "stdout",
     "output_type": "stream",
     "text": [
      "array1 = \n",
      "[[ 1  9  9  7  9]\n",
      " [10  7  1 10  8]\n",
      " [ 1  7  6  2  5]\n",
      " [10  1  7  1  8]\n",
      " [ 2  6 10  6 10]]\n",
      "\n",
      "array2 = \n",
      "[[ 1  1 10  4 10]\n",
      " [ 1  5  5  6  2]\n",
      " [ 5  2 10  7  5]\n",
      " [ 9  9  5  5  7]\n",
      " [ 8  3 10  9  3]]\n",
      "\n",
      "array1 + array2 = \n",
      "[[ 2 10 19 11 19]\n",
      " [11 12  6 16 10]\n",
      " [ 6  9 16  9 10]\n",
      " [19 10 12  6 15]\n",
      " [10  9 20 15 13]]\n",
      "\n",
      "array1 - array2 = \n",
      "[[ 0  8 -1  3 -1]\n",
      " [ 9  2 -4  4  6]\n",
      " [-4  5 -4 -5  0]\n",
      " [ 1 -8  2 -4  1]\n",
      " [-6  3  0 -3  7]]\n",
      "\n",
      "array1 * array2 = \n",
      "[[  1   9  90  28  90]\n",
      " [ 10  35   5  60  16]\n",
      " [  5  14  60  14  25]\n",
      " [ 90   9  35   5  56]\n",
      " [ 16  18 100  54  30]]\n"
     ]
    }
   ],
   "source": [
    "def item5():\n",
    "    array1 = np.random.randint(1, 11, size=(5, 5))  \n",
    "    array2 = np.random.randint(1, 11, size=(5, 5))  \n",
    "    return (f'array1 = \\n{array1}\\n\\n'\n",
    "            f'array2 = \\n{array2}\\n\\n'\n",
    "            f'array1 + array2 = \\n{array1 + array2}\\n\\n'\n",
    "            f'array1 - array2 = \\n{array1 - array2}\\n\\n'\n",
    "            f'array1 * array2 = \\n{array1 * array2}')\n",
    "print(item5())"
   ]
  },
  {
   "cell_type": "markdown",
   "id": "a7934b88-48de-4b25-9aa8-56abb03f6ebf",
   "metadata": {},
   "source": [
    "6. Створіть два вектори розміром 7, заповніть довільними числами та знайдіть їх скалярний добуток."
   ]
  },
  {
   "cell_type": "code",
   "execution_count": 21,
   "id": "8c6fe9ca-8b86-466b-b90d-2c8a44279ee3",
   "metadata": {},
   "outputs": [
    {
     "name": "stdout",
     "output_type": "stream",
     "text": [
      "(array([1, 2, 3, 4, 5, 6, 7]), array([1, 2, 3, 4, 5, 6, 7]), 140)\n"
     ]
    }
   ],
   "source": [
    "def item6():\n",
    "    v1 = np.array([i for i in range(1,8)], dtype=int)\n",
    "    v2 = np.array([i for i in range(1,8)], dtype=int)\n",
    "    return v1, v2, np.dot(v1, v1)\n",
    "print(item6())"
   ]
  },
  {
   "cell_type": "markdown",
   "id": "96bbbd23-701a-46e4-879e-6601a69d9508",
   "metadata": {},
   "source": [
    "7. Створіть дві матриці розміром 2x2 та 2x3, заповніть їх випадковими цілими числами в діапазоні від 1 до 10 та перемножте їх між собою."
   ]
  },
  {
   "cell_type": "code",
   "execution_count": 24,
   "id": "8c6033c5-3e27-42d7-adf9-8af04d410ffb",
   "metadata": {},
   "outputs": [
    {
     "name": "stdout",
     "output_type": "stream",
     "text": [
      "(array([[2, 6],\n",
      "       [2, 8]]), array([[ 4,  7,  4],\n",
      "       [10,  5,  3]]), array([[68, 44, 26],\n",
      "       [88, 54, 32]]))\n"
     ]
    }
   ],
   "source": [
    "def item7():\n",
    "    array1 = np.random.randint(1, 11, size=(2, 2))\n",
    "    array2 = np.random.randint(1, 11, size=(2, 3))\n",
    "    return array1, array2, array1 @ array2\n",
    "print(item7())"
   ]
  },
  {
   "cell_type": "markdown",
   "id": "1f295b26-6f0e-4fee-894e-56767fac1cef",
   "metadata": {},
   "source": [
    "8. Створіть матрицю розміром 3x3, заповніть її випадковими цілими числами в діапазоні від 1 до 10 та знайдіть її обернену матрицю."
   ]
  },
  {
   "cell_type": "code",
   "execution_count": 31,
   "id": "886e64e3-63fd-44f6-9eaa-cb6dc10ea410",
   "metadata": {},
   "outputs": [
    {
     "name": "stdout",
     "output_type": "stream",
     "text": [
      "(array([[ 1,  2,  7],\n",
      "       [ 2,  3,  2],\n",
      "       [ 6,  5, 10]]), array([[-0.38461538, -0.28846154,  0.32692308],\n",
      "       [ 0.15384615,  0.61538462, -0.23076923],\n",
      "       [ 0.15384615, -0.13461538,  0.01923077]]))\n"
     ]
    }
   ],
   "source": [
    "def item8():\n",
    "    array = np.random.randint(1, 11, size=(3, 3))\n",
    "    if np.linalg.det(array) != 0:\n",
    "        return array, np.linalg.inv(array)\n",
    "    else: \n",
    "        return array\n",
    "print(item8())"
   ]
  },
  {
   "cell_type": "markdown",
   "id": "d472f1cd-0592-4000-8a3a-b13e80399c8c",
   "metadata": {},
   "source": [
    "9. Створіть матрицю розміром 4x4, заповніть її випадковими дійсними числами в діапазоні від 0 до 1 та транспонуйте її."
   ]
  },
  {
   "cell_type": "code",
   "execution_count": 32,
   "id": "9936b3b8-a3e9-44b0-8543-6d1cb314ad49",
   "metadata": {},
   "outputs": [
    {
     "name": "stdout",
     "output_type": "stream",
     "text": [
      "(array([[0.69919417, 0.3217303 , 0.90305334, 0.84753505],\n",
      "       [0.92148592, 0.34400956, 0.71539808, 0.74567965],\n",
      "       [0.74074192, 0.72539913, 0.26660386, 0.93991108],\n",
      "       [0.62443419, 0.35814353, 0.26735623, 0.20520271]]), array([[0.69919417, 0.92148592, 0.74074192, 0.62443419],\n",
      "       [0.3217303 , 0.34400956, 0.72539913, 0.35814353],\n",
      "       [0.90305334, 0.71539808, 0.26660386, 0.26735623],\n",
      "       [0.84753505, 0.74567965, 0.93991108, 0.20520271]]))\n"
     ]
    }
   ],
   "source": [
    "def item9():\n",
    "    array = np.random.rand(4,4)\n",
    "    return array, array.T\n",
    "print(item9())"
   ]
  },
  {
   "cell_type": "markdown",
   "id": "c843e8d6-2eef-4326-b5c0-c401386e1b7a",
   "metadata": {},
   "source": [
    "10. Створіть матрицю розміром 3x4 та вектор розміром 4, заповніть їх випадковими цілими числами в діапазоні від 1 до 10 та перемножте матрицю на вектор."
   ]
  },
  {
   "cell_type": "code",
   "execution_count": 35,
   "id": "dfa0c9a4-83cc-4f8a-bf60-480696d7cf53",
   "metadata": {},
   "outputs": [
    {
     "name": "stdout",
     "output_type": "stream",
     "text": [
      "(array([[ 3,  1,  4,  4],\n",
      "       [ 6, 10,  7,  9],\n",
      "       [ 4,  7,  4,  6]]), array([[ 7],\n",
      "       [ 8],\n",
      "       [ 3],\n",
      "       [10]]), array([[ 81],\n",
      "       [233],\n",
      "       [156]]))\n"
     ]
    }
   ],
   "source": [
    "def item10():\n",
    "    array = np.random.randint(1, 11, size=(3, 4))\n",
    "    vector = np.random.randint(1, 11, size=(4, 1))\n",
    "    return array, vector, array @ vector # повинні отримати вектор 3х1\n",
    "print(item10())"
   ]
  },
  {
   "cell_type": "markdown",
   "id": "8c5a7984-7c55-46f5-b651-3f9fdb1eeaf7",
   "metadata": {},
   "source": [
    "11. Створіть матрицю розміром 2x3 та вектор розміром 3, заповніть їх випадковими дійсними числами в діапазоні від 0 до 1 та перемножте матрицю на вектор."
   ]
  },
  {
   "cell_type": "code",
   "execution_count": 36,
   "id": "4477114f-30c9-4866-9ce5-834ebb1cd7ac",
   "metadata": {},
   "outputs": [
    {
     "name": "stdout",
     "output_type": "stream",
     "text": [
      "(array([[0.17219862, 0.87333152, 0.32432435],\n",
      "       [0.83884762, 0.31260751, 0.45639398]]), array([0.9674121 , 0.77567262, 0.26954361]), array([0.93142594, 1.1770105 ]))\n"
     ]
    }
   ],
   "source": [
    "def item11():\n",
    "    array = np.random.rand(2, 3)\n",
    "    vector = np.random.rand(3)\n",
    "    return array, vector, array @ vector # 2x3 and 3x1 -> 2x1\n",
    "print(item11())"
   ]
  },
  {
   "cell_type": "markdown",
   "id": "3c03df6b-f6a4-46b2-90b4-7971147e00c3",
   "metadata": {},
   "source": [
    "12. Створіть дві матриці розміром 2x2, заповніть їх випадковими цілими числами в діапазоні від 1 до 10 та виконайте їхнє поелементне множення."
   ]
  },
  {
   "cell_type": "code",
   "execution_count": 38,
   "id": "b9264a5a-f02c-4e6e-b07e-a5487d0f89d1",
   "metadata": {},
   "outputs": [
    {
     "name": "stdout",
     "output_type": "stream",
     "text": [
      "(array([[ 3,  4],\n",
      "       [10,  6]]), array([[9, 4],\n",
      "       [4, 6]]), array([[27, 16],\n",
      "       [40, 36]]))\n"
     ]
    }
   ],
   "source": [
    "def item12():\n",
    "    array1 = np.random.randint(1, 11, size=(2, 2))\n",
    "    array2 = np.random.randint(1, 11, size=(2, 2))\n",
    "    return array1, array2, array1 * array2\n",
    "print(item12())"
   ]
  },
  {
   "cell_type": "markdown",
   "id": "5cc56319-91ea-46c0-b524-f13ed07b6643",
   "metadata": {},
   "source": [
    "13. Створіть дві матриці розміром 2x2, заповніть їх випадковими цілими числами в діапазоні від 1 до 10 та знайдіть їх добуток."
   ]
  },
  {
   "cell_type": "code",
   "execution_count": null,
   "id": "26701c7e-ede9-4932-9f6f-21dc3b343d2f",
   "metadata": {},
   "outputs": [],
   "source": [
    "def item13():\n",
    "    array1 = np.random.randint(1, 11, size=(2, 2))\n",
    "    array2 = np.random.randint(1, 11, size=(2, 2))\n",
    "    return array1, array2, array1 @ array2\n",
    "print(item13())"
   ]
  },
  {
   "cell_type": "markdown",
   "id": "b0bae91a-dd5e-4a1f-a547-7b2d1ec12e71",
   "metadata": {},
   "source": [
    "14. Створіть матрицю розміром 5x5, заповніть її випадковими цілими числами в діапазоні від 1 до 100 та знайдіть суму елементів матриці."
   ]
  },
  {
   "cell_type": "code",
   "execution_count": 39,
   "id": "48f579f8-4dbc-41b0-9e5a-da008241c7e0",
   "metadata": {},
   "outputs": [
    {
     "name": "stdout",
     "output_type": "stream",
     "text": [
      "(array([[27, 29, 93, 38,  6],\n",
      "       [14, 10,  8, 15, 33],\n",
      "       [20, 38, 42, 52, 52],\n",
      "       [47, 82, 29, 84,  3],\n",
      "       [61, 27,  5, 99,  6]]), 920)\n"
     ]
    }
   ],
   "source": [
    "def item14():\n",
    "    array = np.random.randint(1, 101, size=(5, 5))\n",
    "    return array, np.sum(array)\n",
    "print(item14())"
   ]
  },
  {
   "cell_type": "markdown",
   "id": "f5a00882-400d-4517-92be-fa9072d06b48",
   "metadata": {},
   "source": [
    "15. Створіть дві матриці розміром 4x4, заповніть їх випадковими цілими числами в діапазоні від 1 до 10 та знайдіть їхню різницю."
   ]
  },
  {
   "cell_type": "code",
   "execution_count": 40,
   "id": "ebdc1a04-be6f-4e49-86c8-d9275cd1e3b9",
   "metadata": {},
   "outputs": [
    {
     "name": "stdout",
     "output_type": "stream",
     "text": [
      "(array([[ 6,  9,  9,  7],\n",
      "       [ 7,  8,  5,  2],\n",
      "       [ 6,  5,  2,  3],\n",
      "       [ 2,  5, 10, 10]]), array([[6, 5, 9, 4],\n",
      "       [8, 7, 1, 2],\n",
      "       [1, 5, 6, 2],\n",
      "       [8, 6, 8, 4]]), array([[ 0,  4,  0,  3],\n",
      "       [-1,  1,  4,  0],\n",
      "       [ 5,  0, -4,  1],\n",
      "       [-6, -1,  2,  6]]))\n"
     ]
    }
   ],
   "source": [
    "def item15():\n",
    "    array1 = np.random.randint(1, 11, size=(4, 4))\n",
    "    array2 = np.random.randint(1, 11, size=(4, 4))\n",
    "    return array1, array2, array1 - array2\n",
    "print(item15())"
   ]
  },
  {
   "cell_type": "markdown",
   "id": "77267fb7-5590-4ce8-abd4-35d96548fc7b",
   "metadata": {},
   "source": [
    "16. Створіть матрицю розміром 3x3, заповніть її випадковими дійсними числами в діапазоні від 0 до 1 та знайдіть вектор-стовпчик,\n",
    "що містить суму елементів кожного рядка матриці."
   ]
  },
  {
   "cell_type": "code",
   "execution_count": 42,
   "id": "67391a95-cebe-408e-b030-ffe84778d438",
   "metadata": {},
   "outputs": [
    {
     "name": "stdout",
     "output_type": "stream",
     "text": [
      "(array([[0.18741962, 0.96771884, 0.43286672],\n",
      "       [0.6795831 , 0.31170395, 0.57899834],\n",
      "       [0.8103755 , 0.31883879, 0.36762055]]), array([[1.58800517],\n",
      "       [1.57028539],\n",
      "       [1.49683485]]))\n"
     ]
    }
   ],
   "source": [
    "def item16():\n",
    "    array = np.random.rand(3, 3)\n",
    "    row_sums = np.sum(array, axis=1)\n",
    "    column_vector = row_sums[:, np.newaxis]\n",
    "    return array, column_vector\n",
    "print(item16())"
   ]
  },
  {
   "cell_type": "markdown",
   "id": "2ab8e668-f22a-4ad0-953c-f8f76f52d578",
   "metadata": {},
   "source": [
    "17. Створіть матрицю розміром 3x4 з довільними цілими числами і створінь матрицю з квадратами цих чисел."
   ]
  },
  {
   "cell_type": "code",
   "execution_count": 44,
   "id": "465db937-2d8f-44c8-8a15-07058424aeea",
   "metadata": {},
   "outputs": [
    {
     "name": "stdout",
     "output_type": "stream",
     "text": [
      "(array([[2, 9, 7, 7],\n",
      "       [6, 1, 6, 8],\n",
      "       [6, 5, 8, 2]]), array([[ 4, 81, 49, 49],\n",
      "       [36,  1, 36, 64],\n",
      "       [36, 25, 64,  4]]))\n"
     ]
    }
   ],
   "source": [
    "def item17():\n",
    "    array = np.random.randint(1, 11, size=(3,4))\n",
    "    return array, array ** 2\n",
    "print(item17())"
   ]
  },
  {
   "cell_type": "markdown",
   "id": "9c3d5736-9ce3-4841-b4aa-9b9c251e9a94",
   "metadata": {},
   "source": [
    "18. Створіть вектор розміром 4, заповніть його випадковими цілими числами в діапазоні від 1 до 50 та знайдіть вектор з квадратними коренями цих чисел."
   ]
  },
  {
   "cell_type": "code",
   "execution_count": 45,
   "id": "d070a4de-da0f-4a21-b4ac-eec758c6f7a2",
   "metadata": {},
   "outputs": [
    {
     "name": "stdout",
     "output_type": "stream",
     "text": [
      "(array([39, 13, 49, 35]), array([6.244998  , 3.60555128, 7.        , 5.91607978]))\n"
     ]
    }
   ],
   "source": [
    "def item18():\n",
    "    vector = np.random.randint(1, 51, size=(4))\n",
    "    return vector, vector ** 0.5\n",
    "print(item18())"
   ]
  }
 ],
 "metadata": {
  "kernelspec": {
   "display_name": "Python 3 (ipykernel)",
   "language": "python",
   "name": "python3"
  },
  "language_info": {
   "codemirror_mode": {
    "name": "ipython",
    "version": 3
   },
   "file_extension": ".py",
   "mimetype": "text/x-python",
   "name": "python",
   "nbconvert_exporter": "python",
   "pygments_lexer": "ipython3",
   "version": "3.11.9"
  }
 },
 "nbformat": 4,
 "nbformat_minor": 5
}
